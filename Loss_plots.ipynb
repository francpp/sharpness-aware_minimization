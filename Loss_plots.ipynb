{
 "cells": [
  {
   "cell_type": "markdown",
   "id": "7f114fcb-39a6-4054-8a39-384f19017dab",
   "metadata": {
    "tags": []
   },
   "source": [
    "# Imports"
   ]
  },
  {
   "cell_type": "code",
   "execution_count": 3,
   "id": "16dfe19d-15b4-4a20-899a-fd7adc8805f9",
   "metadata": {},
   "outputs": [],
   "source": [
    "%load_ext autoreload\n",
    "%autoreload 2"
   ]
  },
  {
   "cell_type": "code",
   "execution_count": 4,
   "id": "c5675f96-5799-4ced-86a1-45b18a36f4e8",
   "metadata": {},
   "outputs": [],
   "source": [
    "import torch\n",
    "# device = torch.device(\"mps\" if torch.backends.mps.is_available() else \"cpu\")\n",
    "device = torch.device(\"cuda:0\" if torch.cuda.is_available() else \"cpu\")"
   ]
  },
  {
   "cell_type": "code",
   "execution_count": 5,
   "id": "d2e6b4af-2f62-49bb-9f19-a259edf0c108",
   "metadata": {},
   "outputs": [],
   "source": [
    "import numpy as np\n",
    "import torch \n",
    "from torchvision import datasets, transforms\n",
    "# from pytorchcv.model_provider import get_model as ptcv_get_model # model\n",
    "\n",
    "import matplotlib.pyplot as plt"
   ]
  },
  {
   "cell_type": "code",
   "execution_count": 6,
   "id": "1176eb20-c01b-45ae-baee-feaee79000e1",
   "metadata": {},
   "outputs": [],
   "source": [
    "from loss_landscape.my_pyhessian import hessian, utils# Hessian computation\n",
    "from loss_landscape.my_pyhessian.density_plot import get_esd_plot"
   ]
  },
  {
   "cell_type": "code",
   "execution_count": 7,
   "id": "5974c0de-9045-4bf1-8ab8-a0d1433fbdf0",
   "metadata": {},
   "outputs": [],
   "source": [
    "from loss_landscape.plot_2D import plot_2d_contour"
   ]
  },
  {
   "cell_type": "code",
   "execution_count": 8,
   "id": "bdd2682c-4386-4309-87d6-c381f51624e4",
   "metadata": {},
   "outputs": [],
   "source": [
    "# import sys; sys.path.append(\"..\")\n",
    "from models.smooth_cross_entropy import mean_smooth_crossentropy\n",
    "from models.wide_res_net import WideResNet\n",
    "from models.transformer.model.transformer import Transformer \n",
    "from models.gcn import GCN\n",
    "\n",
    "from DatasetClass.cifar import Cifar\n",
    "from DatasetClass.mitbih import MitBih\n",
    "from DatasetClass.TUD import GraphDataset"
   ]
  },
  {
   "cell_type": "markdown",
   "id": "295d632c-5fee-4547-bdcd-d22afbf0c094",
   "metadata": {
    "tags": []
   },
   "source": [
    "# WideResNet for Cifar"
   ]
  },
  {
   "cell_type": "markdown",
   "id": "677eeb00-17e2-4e85-98d8-84f0ee31e5c2",
   "metadata": {
    "tags": []
   },
   "source": [
    "## Loss landscape plot"
   ]
  },
  {
   "cell_type": "markdown",
   "id": "dd410734-a960-48d0-8565-0ffa87d98526",
   "metadata": {
    "tags": []
   },
   "source": [
    "### With SGD"
   ]
  },
  {
   "cell_type": "markdown",
   "id": "75d4eeff-72c4-4fad-b8c5-26c4b53b3b39",
   "metadata": {
    "tags": []
   },
   "source": [
    "Generate surface file"
   ]
  },
  {
   "cell_type": "code",
   "execution_count": null,
   "id": "812a08f5-0693-4038-879e-40f23754b764",
   "metadata": {
    "tags": []
   },
   "outputs": [],
   "source": [
    "# Run plot_surface.py for trained model\n",
    "# Command to be run from within loss_lanscape folder !!\n",
    "python plot_surface.py --model WideResNet --dataset cifar10 --x=-1:1:2 --y=-1:1:2 --model_file ../to_plot/model_cifar_SGD.pt --dir_type weights --xnorm filter --xignore biasbn --ynorm filter --yignore biasbn --plot --percentage=0.3 --batch_size=128 --loss_name smooth_crossentropy"
   ]
  },
  {
   "cell_type": "markdown",
   "id": "b68f58e0-4b6a-4e29-bff8-4ba9e6dc6ab4",
   "metadata": {
    "tags": []
   },
   "source": [
    "Generate plots"
   ]
  },
  {
   "cell_type": "code",
   "execution_count": 7,
   "id": "96d134e2-8962-4dbb-beea-11a9cd581314",
   "metadata": {},
   "outputs": [
    {
     "name": "stdout",
     "output_type": "stream",
     "text": [
      "------------------------------------------------------------------\n",
      "plot_2d_contour\n",
      "------------------------------------------------------------------\n",
      "len(xcoordinates): 5   len(ycoordinates): 5\n",
      "[[19.47184278  4.94447712  6.3274922  10.84011077 38.55445198]\n",
      " [ 6.52683822  2.74590339  3.3255251   3.25660324 12.8048792 ]\n",
      " [ 3.97482543  1.80651281  0.46783798  1.99040413  5.71666521]\n",
      " [ 4.86280387  2.75262686  1.93810351  2.42843889  6.8996155 ]\n",
      " [24.73039846  9.45652653  5.2411354   3.49049795 11.69184616]]\n"
     ]
    }
   ],
   "source": [
    "surf_file = 'to_plot/model_cifar_SGD.pt_weights_xignore=biasbn_xnorm=filter_yignore=biasbn_ynorm=filter.h5_[-1.0,1.0,5]x[-1.0,1.0,5].h5'\n",
    "\n",
    "plot_2d_contour(surf_file, 'train_loss', 0.1, 10, 0.5, False)"
   ]
  },
  {
   "cell_type": "markdown",
   "id": "6f9c840f-4a65-4ab9-8af0-c479d3dc9d4e",
   "metadata": {
    "tags": []
   },
   "source": [
    "### With SAM"
   ]
  },
  {
   "cell_type": "markdown",
   "id": "d6958ffb-a7ed-419d-9222-7c1e2b07a478",
   "metadata": {
    "tags": []
   },
   "source": [
    "Generate surface file"
   ]
  },
  {
   "cell_type": "code",
   "execution_count": null,
   "id": "92c1bb9c-652b-47f5-9460-ea5fa5640a36",
   "metadata": {},
   "outputs": [],
   "source": [
    "# Run plot_surface.py for trained model\n",
    "# Command to be run from within loss_lanscape folder !!\n",
    "python plot_surface.py --model WideResNet --dataset cifar10 --x=-1:1:2 --y=-1:1:2 --model_file ../to_plot/model_cifar_SAM_rho1.pt --dir_type weights --xnorm filter --xignore biasbn --ynorm filter --yignore biasbn --plot --percentage=0.3 --batch_size=128 --loss_name smooth_crossentropy"
   ]
  },
  {
   "cell_type": "markdown",
   "id": "e8f3c3bf-b893-4006-8e04-6773868218eb",
   "metadata": {},
   "source": [
    "Generate plots"
   ]
  },
  {
   "cell_type": "code",
   "execution_count": 8,
   "id": "b8ab4aa0-dc79-412b-a449-3180bcc69347",
   "metadata": {},
   "outputs": [
    {
     "name": "stdout",
     "output_type": "stream",
     "text": [
      "------------------------------------------------------------------\n",
      "plot_2d_contour\n",
      "------------------------------------------------------------------\n",
      "len(xcoordinates): 5   len(ycoordinates): 5\n",
      "[[2.40649363 2.45352721 2.37080363 2.33494368 3.27218929]\n",
      " [2.11266517 1.72538848 1.35355867 1.86808758 2.42179902]\n",
      " [1.96148256 1.27078478 0.87594321 1.30209623 2.05305649]\n",
      " [2.82968777 1.60050254 1.09351784 1.46998333 1.97798065]\n",
      " [7.75504659 2.75616385 1.72724978 1.85543291 2.30363232]]\n"
     ]
    }
   ],
   "source": [
    "surf_file = 'to_plot/model_cifar_halfSAM_rho05.pt_weights_xignore=biasbn_xnorm=filter_yignore=biasbn_ynorm=filter.h5_[-1.0,1.0,5]x[-1.0,1.0,5].h5'\n",
    "\n",
    "plot_2d_contour(surf_file, 'train_loss', 0.1, 10, 0.5, False)"
   ]
  },
  {
   "cell_type": "markdown",
   "id": "2b751462-9873-4455-b5a6-0ffa29e1f83c",
   "metadata": {
    "jp-MarkdownHeadingCollapsed": true,
    "tags": []
   },
   "source": [
    "## Eigenvalues of hessian"
   ]
  },
  {
   "cell_type": "markdown",
   "id": "fb6c05eb-51ae-45b0-9180-b967392dadc8",
   "metadata": {},
   "source": [
    "Load trained model and dataset"
   ]
  },
  {
   "cell_type": "code",
   "execution_count": 9,
   "id": "5f0d2138-531c-4d85-95cb-7482057c5ab6",
   "metadata": {},
   "outputs": [],
   "source": [
    "model_name = 'WideResNet'"
   ]
  },
  {
   "cell_type": "code",
   "execution_count": 11,
   "id": "5057056e-58e2-43f2-af64-16ec4722f3cd",
   "metadata": {},
   "outputs": [
    {
     "name": "stdout",
     "output_type": "stream",
     "text": [
      "Files already downloaded and verified\n",
      "Files already downloaded and verified\n",
      "Files already downloaded and verified\n"
     ]
    }
   ],
   "source": [
    "# get dataset \n",
    "dataset = Cifar(0.3, 128, 2)\n",
    "trainloader, testloader = dataset.train, dataset.test"
   ]
  },
  {
   "cell_type": "markdown",
   "id": "6f091f10-2ee7-45fa-902c-12c3fa509027",
   "metadata": {},
   "source": [
    "Extract batches of data for computation"
   ]
  },
  {
   "cell_type": "code",
   "execution_count": null,
   "id": "8a15447d-b7cd-4e3c-a2d0-b13de71e5504",
   "metadata": {},
   "outputs": [],
   "source": [
    "num_batches = 1\n",
    "\n",
    "inputs = None\n",
    "targets = None\n",
    "\n",
    "for ind, (data, tar) in enumerate(trainloader):\n",
    "    if inputs is None:\n",
    "        inputs = data\n",
    "        targets = tar\n",
    "    elif inputs is not None and ind < num_batches:\n",
    "        inputs = torch.cat((inputs, data), 0)\n",
    "        targets = torch.cat((targets, tar))\n",
    "    else:\n",
    "        break\n",
    "\n",
    "[print(inputs.size(), targets.size()) if targets is not None else print(inputs.size())]\n",
    "\n",
    "# we use cuda to make the computation fast\n",
    "# model = model.cuda()\n",
    "# inputs, targets = inputs.cuda(), targets.cuda()"
   ]
  },
  {
   "cell_type": "markdown",
   "id": "2d43192a-2f18-48ec-8b05-d79338c52a4a",
   "metadata": {
    "tags": []
   },
   "source": [
    "### With SGD"
   ]
  },
  {
   "cell_type": "code",
   "execution_count": 56,
   "id": "b40de132-11c4-4c97-8ee9-8d53c3723cb2",
   "metadata": {},
   "outputs": [],
   "source": [
    "stored = torch.load('to_plot/model_cifar_SGD.pt', map_location=lambda storage, loc: storage)\n",
    "\n",
    "model = WideResNet(8, 2, 0.0, in_channels=3, labels=10)\n",
    "\n",
    "if 'state_dict' in stored.keys():\n",
    "    model.load_state_dict(stored['state_dict'])\n",
    "else:\n",
    "    model.load_state_dict(stored)\n",
    "model.eval()\n",
    "\n",
    "criterion = mean_smooth_crossentropy"
   ]
  },
  {
   "cell_type": "markdown",
   "id": "79a7fff5-dc75-4e42-94df-ef69f0b28403",
   "metadata": {},
   "source": [
    "Create the hessian computation module and compute eigenvalue density"
   ]
  },
  {
   "cell_type": "code",
   "execution_count": null,
   "id": "e306237e-a4f9-425e-bcff-662402863331",
   "metadata": {},
   "outputs": [],
   "source": [
    "eig_file_name = 'wideresnet_sgd'"
   ]
  },
  {
   "cell_type": "code",
   "execution_count": 65,
   "id": "5d7d6c75-45d2-4967-8ceb-3359e47edda0",
   "metadata": {},
   "outputs": [],
   "source": [
    "try:\n",
    "    density_eigen = np.load('Eigenvalues/'+eig_file_name+'_eigen.npy')\n",
    "    density_weight = np.load('Eigenvalues/'+eig_file_name+'_weight.npy')\n",
    "except:\n",
    "    hessian_comp = hessian(model, criterion, data=(inputs, targets), cuda=False, model_name = model_name)\n",
    "    density_eigen, density_weight = hessian_comp.density(iter=100, n_v=1)\n",
    "    np.save('Eigenvalues/'+eig_file_name+'_eigen.npy', density_eigen)\n",
    "    np.save('Eigenvalues/'+eig_file_name+'_weight.npy', density_weight)\n",
    "    \n",
    "get_esd_plot(density_eigen, density_weight,'plots/eig_'+eig_file_name+'.png')"
   ]
  },
  {
   "cell_type": "markdown",
   "id": "fe264016-eef7-41df-b718-60cd60a1677d",
   "metadata": {
    "jp-MarkdownHeadingCollapsed": true,
    "tags": []
   },
   "source": [
    "### With SAM"
   ]
  },
  {
   "cell_type": "code",
   "execution_count": 56,
   "id": "c8f1ee07-5d7e-4469-b836-2b2dfcf9fcac",
   "metadata": {},
   "outputs": [],
   "source": [
    "stored = torch.load('to_plot/model_cifar_halfSAM_rho0.5.pt', map_location=lambda storage, loc: storage)\n",
    "\n",
    "model = WideResNet(8, 2, 0.0, in_channels=3, labels=10)\n",
    "\n",
    "if 'state_dict' in stored.keys():\n",
    "    model.load_state_dict(stored['state_dict'])\n",
    "else:\n",
    "    model.load_state_dict(stored)\n",
    "model.eval()\n",
    "\n",
    "criterion = mean_smooth_crossentropy"
   ]
  },
  {
   "cell_type": "markdown",
   "id": "f94e4ac6-f68f-41d4-8b22-f3747f3efb52",
   "metadata": {},
   "source": [
    "Create the hessian computation module and compute eigenvalue density"
   ]
  },
  {
   "cell_type": "code",
   "execution_count": null,
   "id": "63b80389-9fa5-4a6f-bc67-01fd105b7722",
   "metadata": {},
   "outputs": [],
   "source": [
    "eig_file_name = 'wideresnet_sam'"
   ]
  },
  {
   "cell_type": "code",
   "execution_count": 65,
   "id": "9aefc17f-c5b5-442a-b7c3-0e927ff2ca10",
   "metadata": {},
   "outputs": [],
   "source": [
    "try:\n",
    "    density_eigen = np.load('Eigenvalues/'+eig_file_name+'_eigen.npy')\n",
    "    density_weight = np.load('Eigenvalues/'+eig_file_name+'_weight.npy')\n",
    "except:\n",
    "    hessian_comp = hessian(model, criterion, data=(inputs, targets), cuda=False, model_name = model_name)\n",
    "    density_eigen, density_weight = hessian_comp.density(iter=100, n_v=1)\n",
    "    np.save('Eigenvalues/'+eig_file_name+'_eigen.npy', density_eigen)\n",
    "    np.save('Eigenvalues/'+eig_file_name+'_weight.npy', density_weight)\n",
    "\n",
    "get_esd_plot(density_eigen, density_weight,'plots/eig_'+eig_file_name+'.png')"
   ]
  },
  {
   "cell_type": "markdown",
   "id": "2d4aed62-3723-4b7d-be55-d4eeea72b5f1",
   "metadata": {
    "tags": []
   },
   "source": [
    "# Transformer for Mit-Bih"
   ]
  },
  {
   "cell_type": "markdown",
   "id": "763402f4-a49f-4c31-8b24-e485cf87d995",
   "metadata": {
    "tags": []
   },
   "source": [
    "## Loss landscape plot"
   ]
  },
  {
   "cell_type": "markdown",
   "id": "9e3c10da-42c9-4bee-bc49-936a5b153da5",
   "metadata": {
    "tags": []
   },
   "source": [
    "### With SGD"
   ]
  },
  {
   "cell_type": "markdown",
   "id": "c518f64b-dabe-42ac-b61a-febc4578a5bf",
   "metadata": {
    "tags": []
   },
   "source": [
    "Generate surface file"
   ]
  },
  {
   "cell_type": "code",
   "execution_count": null,
   "id": "a629053a-1554-4c15-b4cc-31055e648cb7",
   "metadata": {
    "tags": []
   },
   "outputs": [],
   "source": [
    "# Run plot_surface.py for trained model\n",
    "# Command to be run from within loss_lanscape folder !!\n",
    "python plot_surface.py --model Transformer --dataset mitbih --x=-1:1:3 --y=-1:1:3 --model_file ../to_plot/model_mitbih_SGD.pt --dir_type weights --xnorm filter --xignore biasbn --ynorm filter --yignore biasbn --plot --batch_size=128 --loss_name smooth_crossentropy"
   ]
  },
  {
   "cell_type": "markdown",
   "id": "a7eae910-28d5-47a5-b3ec-17313c3a6a7d",
   "metadata": {
    "tags": []
   },
   "source": [
    "Generate plots"
   ]
  },
  {
   "cell_type": "code",
   "execution_count": 19,
   "id": "a9dd0ba9-751f-4313-80b0-b224adaf0cf7",
   "metadata": {},
   "outputs": [
    {
     "name": "stdout",
     "output_type": "stream",
     "text": [
      "------------------------------------------------------------------\n",
      "plot_2d_contour\n",
      "------------------------------------------------------------------\n",
      "len(xcoordinates): 3   len(ycoordinates): 3\n",
      "[[1.01853037 0.66109276 0.96737492]\n",
      " [0.86159587 0.4306891  0.736637  ]\n",
      " [1.23280096 0.60532123 0.98124242]]\n"
     ]
    }
   ],
   "source": [
    "surf_file = 'to_plot/model_mitbih_SGD.pt_weights_xignore=biasbn_xnorm=filter_yignore=biasbn_ynorm=filter.h5_[-1.0,1.0,3]x[-1.0,1.0,3].h5'\n",
    "plot_2d_contour(surf_file, 'train_loss', 0.1, 10, 0.5, False)"
   ]
  },
  {
   "cell_type": "markdown",
   "id": "bd20cab6-5923-4511-99e6-c4a19b2aa3e8",
   "metadata": {
    "tags": []
   },
   "source": [
    "### With SAM"
   ]
  },
  {
   "cell_type": "markdown",
   "id": "3688bfd5-bc8a-4cff-b018-c86c0fc98a78",
   "metadata": {
    "tags": []
   },
   "source": [
    "Generate surface file"
   ]
  },
  {
   "cell_type": "code",
   "execution_count": null,
   "id": "4d702612-9152-4bca-9c07-434c1f839c7a",
   "metadata": {},
   "outputs": [],
   "source": [
    "# Run plot_surface.py for trained model\n",
    "# Command to be run from within loss_lanscape folder !!\n",
    "python plot_surface.py --model Transformer --dataset mitbih --x=-1:1:3 --y=-1:1:3 --model_file ../to_plot/model_mitbih_SAM_rho1.pt --dir_type weights --xnorm filter --xignore biasbn --ynorm filter --yignore biasbn --plot --batch_size=128 --loss_name smooth_crossentropy"
   ]
  },
  {
   "cell_type": "markdown",
   "id": "23e23c3e-22aa-4bd4-8537-1f20a69f2f0f",
   "metadata": {},
   "source": [
    "Generate plots"
   ]
  },
  {
   "cell_type": "code",
   "execution_count": null,
   "id": "0be2dcad-aa00-4d2b-821c-37607c29532e",
   "metadata": {},
   "outputs": [],
   "source": [
    "surf_file = \n",
    "\n",
    "plot_2d_contour(surf_file, 'train_loss', 0.1, 10, 0.5, False)"
   ]
  },
  {
   "cell_type": "markdown",
   "id": "080cad5e-9e61-46fc-944c-8767046096ca",
   "metadata": {
    "jp-MarkdownHeadingCollapsed": true,
    "tags": []
   },
   "source": [
    "## Eigenvalues of hessian"
   ]
  },
  {
   "cell_type": "markdown",
   "id": "b38edd19-2f67-43a1-8eb5-b8ac1fc600c3",
   "metadata": {},
   "source": [
    "Load trained model and dataset"
   ]
  },
  {
   "cell_type": "code",
   "execution_count": 1,
   "id": "b7cd6260-bcd9-4935-bf7f-731994321b6a",
   "metadata": {},
   "outputs": [],
   "source": [
    "model_name = 'Transformer'"
   ]
  },
  {
   "cell_type": "code",
   "execution_count": 10,
   "id": "5c3c31cd-f7be-4392-955f-48c3d4b3946d",
   "metadata": {},
   "outputs": [],
   "source": [
    "# get dataset \n",
    "dataset = MitBih(128,2)\n",
    "trainloader = dataset.train"
   ]
  },
  {
   "cell_type": "code",
   "execution_count": 18,
   "id": "f0066bfa-d5cf-499b-b43f-7a2887bff794",
   "metadata": {},
   "outputs": [
    {
     "name": "stdout",
     "output_type": "stream",
     "text": [
      "torch.Size([128, 187, 1]) torch.Size([128, 1])\n"
     ]
    },
    {
     "data": {
      "text/plain": [
       "[None]"
      ]
     },
     "execution_count": 18,
     "metadata": {},
     "output_type": "execute_result"
    }
   ],
   "source": [
    "num_batches = 1 # Only one batch (size 128)\n",
    "\n",
    "inputs = None\n",
    "targets = None\n",
    "\n",
    "for ind, (inp,tar) in enumerate(trainloader):\n",
    "    if inputs is None:\n",
    "        inputs = inp\n",
    "        targets = tar\n",
    "    elif inputs is not None and ind < num_batches:\n",
    "        inputs = torch.cat((inputs, inp), 0)\n",
    "        targets = torch.cat((targets, tar))\n",
    "    else:\n",
    "        break\n",
    "\n",
    "[print(inputs.size(), targets.size()) if targets is not None else print(inputs.size())]\n",
    "\n",
    "# we use cuda to make the computation fast\n",
    "# model = model.cuda()\n",
    "# inputs, targets = inputs.cuda(), targets.cuda()"
   ]
  },
  {
   "cell_type": "markdown",
   "id": "1c9718db-59fc-4f6f-83f3-401308a18b41",
   "metadata": {},
   "source": [
    "### With SGD"
   ]
  },
  {
   "cell_type": "code",
   "execution_count": 15,
   "id": "8a784586-67de-4085-9d83-79ffdd1f6478",
   "metadata": {},
   "outputs": [],
   "source": [
    "stored = torch.load('to_plot/model_mitbih_SGD.pt', map_location=lambda storage, loc: storage)\n",
    "\n",
    "model = Transformer(d_model=200, n_head=2, max_len=5000, seq_len=187, ffn_hidden=128, n_layers=1, drop_prob=0.1, details=False, device=device).to(device=device)\n",
    "\n",
    "if 'state_dict' in stored.keys():\n",
    "    model.load_state_dict(stored['state_dict'])\n",
    "else:\n",
    "    model.load_state_dict(stored)\n",
    "model.eval()\n",
    "\n",
    "criterion = mean_smooth_crossentropy"
   ]
  },
  {
   "cell_type": "markdown",
   "id": "e59f09c4-602f-4980-b083-73a351dcf594",
   "metadata": {},
   "source": [
    "Create the hessian computation module and compute eigenvalue density"
   ]
  },
  {
   "cell_type": "code",
   "execution_count": 16,
   "id": "ef5ef4c2-8d13-440b-9baf-d24003ac3946",
   "metadata": {},
   "outputs": [],
   "source": [
    "eig_file_name = 'transformer_sgd'"
   ]
  },
  {
   "cell_type": "code",
   "execution_count": null,
   "id": "4527975c-bcde-424c-9e1b-9b4008ed7c36",
   "metadata": {},
   "outputs": [],
   "source": [
    "try:\n",
    "    density_eigen = np.load('Eigenvalues/'+eig_file_name+'_eigen.npy')\n",
    "    density_weight = np.load('Eigenvalues/'+eig_file_name+'_weight.npy')\n",
    "\n",
    "except:\n",
    "    hessian_comp = hessian(model, criterion, data=(inputs, targets), cuda=False, model_name = model_name)\n",
    "    density_eigen, density_weight = hessian_comp.density(iter=25, n_v=1)\n",
    "    np.save('Eigenvalues/'+eig_file_name+'_eigen.npy', density_eigen)\n",
    "    np.save('Eigenvalues/'+eig_file_name+'_weight.npy', density_weight)\n",
    "    \n",
    "get_esd_plot(density_eigen, density_weight,'plots/eig_'+eig_file_name+'.png')"
   ]
  },
  {
   "cell_type": "markdown",
   "id": "f9a07122-50c4-4cf6-affc-8a6401306b76",
   "metadata": {},
   "source": [
    "### With SAM"
   ]
  },
  {
   "cell_type": "code",
   "execution_count": 56,
   "id": "1a0061df-ffb2-49a8-babf-235c9fe19d40",
   "metadata": {},
   "outputs": [],
   "source": [
    "stored = torch.load('to_plot/model_mitbih_SAM_rho????.pt', map_location=lambda storage, loc: storage)\n",
    "\n",
    "model = Transformer(d_model=200, n_head=2, max_len=5000, seq_len=187, ffn_hidden=128, n_layers=1, drop_prob=0.1, details=False, device=device).to(device=device)\n",
    "\n",
    "if 'state_dict' in stored.keys():\n",
    "    model.load_state_dict(stored['state_dict'])\n",
    "else:\n",
    "    model.load_state_dict(stored)\n",
    "model.eval()\n",
    "\n",
    "criterion = mean_smooth_crossentropy"
   ]
  },
  {
   "cell_type": "markdown",
   "id": "55ecc0c8-2ba9-4a29-b879-68d7f19e6f1b",
   "metadata": {},
   "source": [
    "Create the hessian computation module and compute eigenvalue density"
   ]
  },
  {
   "cell_type": "code",
   "execution_count": null,
   "id": "acfda9f0-ee2d-43b0-bb60-e2986bc64eb4",
   "metadata": {},
   "outputs": [],
   "source": [
    "eig_file_name = 'transformer_sam'"
   ]
  },
  {
   "cell_type": "markdown",
   "id": "c8e791fa-4568-49b2-8724-ef0683bc49f1",
   "metadata": {},
   "source": [
    "Plot eigenvalue density and save"
   ]
  },
  {
   "cell_type": "code",
   "execution_count": 65,
   "id": "0c163398-0335-4f78-959c-5292b5fed924",
   "metadata": {
    "tags": []
   },
   "outputs": [],
   "source": [
    "try:\n",
    "    density_eigen = np.load('Eigenvalues/'+eig_file_name+'_eigen.npy')\n",
    "    density_weight = np.load('Eigenvalues/'+eig_file_name+'_weight.npy')\n",
    "except:\n",
    "    hessian_comp = hessian(model, criterion, data=(inputs, targets), cuda=False, model_name = model_name)  \n",
    "    density_eigen, density_weight = hessian_comp.density(iter=100, n_v=1)\n",
    "    np.save('Eigenvalues/'+eig_file_name+'_eigen.npy', density_eigen)\n",
    "    np.save('Eigenvalues/'+eig_file_name+'_weight.npy', density_weight)\n",
    "    \n",
    "get_esd_plot(density_eigen, density_weight,'plots/eig_'+eig_file_name+'.png')"
   ]
  },
  {
   "cell_type": "markdown",
   "id": "96e2e302-872b-45a9-9307-21cdfbf7d2f7",
   "metadata": {
    "tags": []
   },
   "source": [
    "# Graph Convolutional Network for Mutagenicity"
   ]
  },
  {
   "cell_type": "markdown",
   "id": "2f34f202-3201-4e61-b63a-40c5c1182536",
   "metadata": {
    "tags": []
   },
   "source": [
    "## Loss landscape plot"
   ]
  },
  {
   "cell_type": "markdown",
   "id": "ac0c92a5-3940-41ea-8203-1cb6018e884d",
   "metadata": {
    "tags": []
   },
   "source": [
    "### With ADAM"
   ]
  },
  {
   "cell_type": "markdown",
   "id": "6a359c38-6408-4172-a265-04626f2cc43f",
   "metadata": {
    "tags": []
   },
   "source": [
    "Generate surface file"
   ]
  },
  {
   "cell_type": "code",
   "execution_count": null,
   "id": "95fd6ee7-f098-41ef-90ae-2abb4bdc40fb",
   "metadata": {
    "tags": []
   },
   "outputs": [],
   "source": [
    "# Run plot_surface.py for trained model\n",
    "# Command to be run from within loss_lanscape folder !!\n",
    "python plot_surface.py --model GCN --dataset Mutagenicity --x=-1:1:5 --y=-1:1:5 --model_file ../to_plot/model_gcn_ADAM.pt --dir_type weights --xnorm filter --xignore biasbn --ynorm filter --yignore biasbn --plot --batch_size=64 --loss_name smooth_crossentropy"
   ]
  },
  {
   "cell_type": "markdown",
   "id": "529226c7-de17-49b4-bfef-c102d9751d2f",
   "metadata": {
    "tags": []
   },
   "source": [
    "Generate plots"
   ]
  },
  {
   "cell_type": "code",
   "execution_count": 20,
   "id": "75f51cd0-a618-41b6-b0cd-fd933e2d29a6",
   "metadata": {},
   "outputs": [
    {
     "name": "stdout",
     "output_type": "stream",
     "text": [
      "------------------------------------------------------------------\n",
      "plot_2d_contour\n",
      "------------------------------------------------------------------\n",
      "len(xcoordinates): 5   len(ycoordinates): 5\n",
      "[[3.08615565 1.91437817 1.18252456 0.84519386 1.04570138]\n",
      " [1.46932542 0.78792375 0.45455039 0.33527473 0.36048952]\n",
      " [0.78654933 0.3918781  0.29017311 0.29505509 0.32700589]\n",
      " [0.45569074 0.29535779 0.30361739 0.33285248 0.34023479]\n",
      " [0.44712234 0.30643782 0.33153099 0.36096561 0.39565134]]\n"
     ]
    }
   ],
   "source": [
    "surf_file = 'to_plot/model_gcn_ADAM.pt_weights_xignore=biasbn_xnorm=filter_yignore=biasbn_ynorm=filter.h5_[-1.0,1.0,5]x[-1.0,1.0,5].h5'\n",
    "plot_2d_contour(surf_file, 'train_loss', 0.1, 10, 0.5, False)"
   ]
  },
  {
   "cell_type": "markdown",
   "id": "1a5c8051-80f9-4929-9cb0-d24254e518b9",
   "metadata": {
    "tags": []
   },
   "source": [
    "### With SAM"
   ]
  },
  {
   "cell_type": "markdown",
   "id": "707fd6e4-509f-4179-b6e2-50359bda37b1",
   "metadata": {
    "tags": []
   },
   "source": [
    "Generate surface file"
   ]
  },
  {
   "cell_type": "code",
   "execution_count": null,
   "id": "a55bc3c7-dc14-484d-8e80-17c66c7639b1",
   "metadata": {},
   "outputs": [],
   "source": [
    "# Run plot_surface.py for trained model\n",
    "# Command to be run from within loss_lanscape folder !!\n",
    "python plot_surface.py --model GCN --dataset Mutagenicity --x=-1:1:2 --y=-1:1:2 --model_file ../to_plot/model_gcn_SAM_rho0.3.pt --dir_type weights --xnorm filter --xignore biasbn --ynorm filter --yignore biasbn --plot --batch_size=64 --loss_name smooth_crossentropy"
   ]
  },
  {
   "cell_type": "markdown",
   "id": "3e8c40ba-9d90-4e0c-a7bc-28c89a96155d",
   "metadata": {},
   "source": [
    "Generate plots"
   ]
  },
  {
   "cell_type": "code",
   "execution_count": 21,
   "id": "af8ac361-6637-4b74-a91a-11d9bb9b03ab",
   "metadata": {},
   "outputs": [
    {
     "name": "stdout",
     "output_type": "stream",
     "text": [
      "------------------------------------------------------------------\n",
      "plot_2d_contour\n",
      "------------------------------------------------------------------\n",
      "len(xcoordinates): 5   len(ycoordinates): 5\n",
      "[[0.37221444 0.36809254 0.36637071 0.36550125 0.37177667]\n",
      " [0.36776778 0.36647096 0.36590144 0.36509451 0.36471522]\n",
      " [0.36611596 0.36547902 0.36536816 0.36510125 0.36340114]\n",
      " [0.36520004 0.36565852 0.3654609  0.36441553 0.37480429]\n",
      " [0.36442244 0.36556324 0.36752364 0.37093782 0.42730191]]\n"
     ]
    }
   ],
   "source": [
    "surf_file = 'to_plot/model_gcn_SAM_rho0.3.pt_weights_xignore=biasbn_xnorm=filter_yignore=biasbn_ynorm=filter.h5_[-1.0,1.0,5]x[-1.0,1.0,5].h5'\n",
    "\n",
    "plot_2d_contour(surf_file, 'train_loss', 0.1, 10, 0.5, False)"
   ]
  },
  {
   "cell_type": "markdown",
   "id": "ab5e2084-8f78-4e32-8cfa-bf505538ad1e",
   "metadata": {
    "jp-MarkdownHeadingCollapsed": true,
    "tags": []
   },
   "source": [
    "## Eigenvalues of hessian"
   ]
  },
  {
   "cell_type": "markdown",
   "id": "0563947f-e751-4911-9d80-a251a44d71fb",
   "metadata": {},
   "source": [
    "Load trained model and dataset"
   ]
  },
  {
   "cell_type": "code",
   "execution_count": 24,
   "id": "ba09a2ac-b234-48d3-a690-cc3bf9a013c3",
   "metadata": {},
   "outputs": [],
   "source": [
    "model_name = 'GCN'"
   ]
  },
  {
   "cell_type": "code",
   "execution_count": 25,
   "id": "0df5efbc-8f6b-499b-a493-686471518e45",
   "metadata": {},
   "outputs": [],
   "source": [
    "# get dataset \n",
    "dataset = GraphDataset('Mutagenicity', 70, 64)\n",
    "trainloader = dataset.train_loader"
   ]
  },
  {
   "cell_type": "code",
   "execution_count": 26,
   "id": "aacac0e7-5478-4e47-b450-d0eaee61786f",
   "metadata": {},
   "outputs": [
    {
     "name": "stdout",
     "output_type": "stream",
     "text": [
      "(2043, 2043)\n"
     ]
    },
    {
     "data": {
      "text/plain": [
       "[None]"
      ]
     },
     "execution_count": 26,
     "metadata": {},
     "output_type": "execute_result"
    }
   ],
   "source": [
    "num_batches = 1 # CHOOSE MORE\n",
    "\n",
    "inputs = None\n",
    "targets = None\n",
    "\n",
    "for ind, data in enumerate(trainloader):\n",
    "    if inputs is None:\n",
    "        inputs = data\n",
    "    elif inputs is not None and ind < num_batches:\n",
    "        inputs = torch.cat((inputs, data), 0)\n",
    "    else:\n",
    "        break\n",
    "\n",
    "[print(inputs.size(), targets.size()) if targets is not None else print(inputs.size())]\n",
    "\n",
    "# we use cuda to make the computation fast\n",
    "# model = model.cuda()\n",
    "# inputs, targets = inputs.cuda(), targets.cuda()"
   ]
  },
  {
   "cell_type": "markdown",
   "id": "0a9d2d8f-eb38-40d0-aa3c-cf3a869018a8",
   "metadata": {},
   "source": [
    "### With SGD"
   ]
  },
  {
   "cell_type": "code",
   "execution_count": 27,
   "id": "c5d67627-81c7-4197-87b3-7eee78d14190",
   "metadata": {},
   "outputs": [],
   "source": [
    "model = GCN(64, dataset.dataset.num_node_features, dataset.dataset.num_classes).to(device)\n",
    "stored = torch.load('to_plot/model_gcn_ADAM.pt', map_location=lambda storage, loc: storage)\n",
    "\n",
    "if 'state_dict' in stored.keys():\n",
    "    model.load_state_dict(stored['state_dict'])\n",
    "else:\n",
    "    model.load_state_dict(stored)\n",
    "model.eval()\n",
    "\n",
    "criterion = mean_smooth_crossentropy"
   ]
  },
  {
   "cell_type": "markdown",
   "id": "0f85ec50-aa48-426f-803a-eede0d340b6b",
   "metadata": {},
   "source": [
    "Create the hessian computation module and compute eigenvalue density"
   ]
  },
  {
   "cell_type": "code",
   "execution_count": 28,
   "id": "a431c651-fb89-4e0e-9552-6cbe4db4a6ce",
   "metadata": {},
   "outputs": [],
   "source": [
    "eig_file_name = 'gcn_adam'"
   ]
  },
  {
   "cell_type": "code",
   "execution_count": null,
   "id": "77a1145e-37ea-4cb4-8831-6c4e206f3af4",
   "metadata": {},
   "outputs": [],
   "source": [
    "try:\n",
    "    density_eigen = np.load('Eigenvalues/'+eig_file_name+'_eigen.npy')\n",
    "    density_weight = np.load('Eigenvalues/'+eig_file_name+'_weight.npy')\n",
    "except:\n",
    "    hessian_comp = hessian(model, criterion, data=(inputs, targets), cuda=False, model_name = model_name)\n",
    "    density_eigen, density_weight = hessian_comp.density(iter=100, n_v=1)\n",
    "    np.save('Eigenvalues/'+eig_file_name+'_eigen.npy', density_eigen)\n",
    "    np.save('Eigenvalues/'+eig_file_name+'_weight.npy', density_weight)\n",
    "\n",
    "get_esd_plot(density_eigen, density_weight,'plots/eig_'+eig_file_name+'.png')"
   ]
  },
  {
   "cell_type": "markdown",
   "id": "f8bf5459-e4fd-4a4e-bf09-972f640e7b15",
   "metadata": {},
   "source": [
    "### With SAM"
   ]
  },
  {
   "cell_type": "code",
   "execution_count": 99,
   "id": "7f518ab9-c92a-448b-b5f2-344573a69190",
   "metadata": {},
   "outputs": [],
   "source": [
    "stored = torch.load('to_plot/model_gcn_SAM_rho0.3.pt', map_location=lambda storage, loc: storage)\n",
    "model = GCN(64, dataset.dataset.num_node_features, dataset.dataset.num_classes).to(device)\n",
    "\n",
    "if 'state_dict' in stored.keys():\n",
    "    model.load_state_dict(stored['state_dict'])\n",
    "else:\n",
    "    model.load_state_dict(stored)\n",
    "model.eval()\n",
    "\n",
    "criterion = mean_smooth_crossentropy"
   ]
  },
  {
   "cell_type": "markdown",
   "id": "dcc0f920-3581-4617-94ba-62b7866cff6d",
   "metadata": {},
   "source": [
    "Create the hessian computation module and compute eigenvalue density"
   ]
  },
  {
   "cell_type": "code",
   "execution_count": 100,
   "id": "b5470548-56c9-4c8b-aeb9-ad8c4548ac23",
   "metadata": {},
   "outputs": [],
   "source": [
    "eig_file_name = 'gcn_sam'"
   ]
  },
  {
   "cell_type": "code",
   "execution_count": 102,
   "id": "f8e4ede1-3083-4097-bdc4-9808312df750",
   "metadata": {},
   "outputs": [],
   "source": [
    "try:\n",
    "    density_eigen = np.load('Eigenvalues/'+eig_file_name+'_eigen.npy')\n",
    "    density_weight = np.load('Eigenvalues/'+eig_file_name+'_weight.npy')\n",
    "except:\n",
    "    hessian_comp = hessian(model, criterion, data=(inputs, targets), cuda=False, model_name = model_name)\n",
    "    density_eigen, density_weight = hessian_comp.density(iter=100, n_v=1)\n",
    "    np.save('Eigenvalues/'+eig_file_name+'_eigen.npy', density_eigen)\n",
    "    np.save('Eigenvalues/'+eig_file_name+'_weight.npy', density_weight)\n",
    "    \n",
    "get_esd_plot(density_eigen, density_weight,'plots/eig_'+eig_file_name+'.png')"
   ]
  }
 ],
 "metadata": {
  "kernelspec": {
   "display_name": "Python 3 (ipykernel)",
   "language": "python",
   "name": "python3"
  },
  "language_info": {
   "codemirror_mode": {
    "name": "ipython",
    "version": 3
   },
   "file_extension": ".py",
   "mimetype": "text/x-python",
   "name": "python",
   "nbconvert_exporter": "python",
   "pygments_lexer": "ipython3",
   "version": "3.10.9"
  }
 },
 "nbformat": 4,
 "nbformat_minor": 5
}
