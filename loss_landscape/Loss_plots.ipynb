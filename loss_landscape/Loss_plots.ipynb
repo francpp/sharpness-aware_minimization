{
 "cells": [
  {
   "cell_type": "code",
   "execution_count": 86,
   "id": "16dfe19d-15b4-4a20-899a-fd7adc8805f9",
   "metadata": {},
   "outputs": [],
   "source": [
    "%load_ext autoreload\n",
    "%autoreload 2"
   ]
  },
  {
   "cell_type": "markdown",
   "id": "9f3da925-88cf-4ee5-a0f2-3e0ff26e2b1b",
   "metadata": {},
   "source": [
    "## Loss landscape plot"
   ]
  },
  {
   "cell_type": "markdown",
   "id": "26d4f924-b57e-47e7-aa80-e551134621eb",
   "metadata": {},
   "source": [
    "plot_surface.py"
   ]
  },
  {
   "cell_type": "code",
   "execution_count": null,
   "id": "812a08f5-0693-4038-879e-40f23754b764",
   "metadata": {},
   "outputs": [],
   "source": [
    "!python plot_surface.py --model WideResNet --x=-1:1:3 --y=-1:1:3 --model_file model_acc_state.pt --dir_type weights \\\n",
    "--xnorm filter --xignore biasbn --ynorm filter --yignore biasbn --plot --percentage=0.05 --loss_name smooth_crossentropy"
   ]
  },
  {
   "cell_type": "markdown",
   "id": "59a2f14c-8b62-4316-83a6-12657b06d389",
   "metadata": {},
   "source": [
    "## Eigenvalues of hessian"
   ]
  },
  {
   "cell_type": "markdown",
   "id": "92853ce9-55ca-4ebb-a298-c837f34bf4be",
   "metadata": {},
   "source": [
    "plot_hessian_eigen.py"
   ]
  },
  {
   "cell_type": "code",
   "execution_count": 1,
   "id": "27e1426c-cc02-448c-9910-0f9aae48b84a",
   "metadata": {},
   "outputs": [],
   "source": [
    "# !python plot_hessian_eigen.py --model WideResNet --x=-1:1:3 --y=-1:1:3 --model_file model_acc_state.pt --dir_type weights --xnorm filter --xignore biasbn --ynorm filter --yignore biasbn --plot --percentage=0.05 --loss_name smooth_crossentropy"
   ]
  },
  {
   "cell_type": "markdown",
   "id": "16aa4417-9a82-4089-a0f8-db07eaf76a01",
   "metadata": {},
   "source": [
    "Using pyhessian"
   ]
  },
  {
   "cell_type": "code",
   "execution_count": 107,
   "id": "837db404-bbdb-44f2-aae5-86855b46fe6c",
   "metadata": {},
   "outputs": [],
   "source": [
    "import numpy as np\n",
    "import torch \n",
    "from torchvision import datasets, transforms\n",
    "# from pytorchcv.model_provider import get_model as ptcv_get_model # model\n",
    "\n",
    "import matplotlib.pyplot as plt"
   ]
  },
  {
   "cell_type": "code",
   "execution_count": 108,
   "id": "eaa412c4-62bc-4979-9434-fab397bf40e3",
   "metadata": {},
   "outputs": [],
   "source": [
    "from my_pyhessian import hessian, utils# Hessian computation\n",
    "from my_pyhessian.density_plot import get_esd_plot"
   ]
  },
  {
   "cell_type": "code",
   "execution_count": 109,
   "id": "8ad7340c-33f7-4744-ab16-39cb9b1b4110",
   "metadata": {},
   "outputs": [
    {
     "data": {
      "text/plain": [
       "<function my_pyhessian.density_plot.get_esd_plot(eigenvalues, weights, name='ex.png')>"
      ]
     },
     "execution_count": 109,
     "metadata": {},
     "output_type": "execute_result"
    }
   ],
   "source": [
    "get_esd_plot"
   ]
  },
  {
   "cell_type": "code",
   "execution_count": 118,
   "id": "48e635e0-1d1a-43ee-86e7-2d23bfbcbc87",
   "metadata": {},
   "outputs": [
    {
     "name": "stdout",
     "output_type": "stream",
     "text": [
      "Files already downloaded and verified\n",
      "Files already downloaded and verified\n",
      "Files already downloaded and verified\n"
     ]
    }
   ],
   "source": [
    "stored = torch.load('../to_plot/model_cifar_SGD.pt', map_location=lambda storage, loc: storage)\n",
    "model = WideResNet(8, 2, 0.0, in_channels=3, labels=10)\n",
    "\n",
    "if 'state_dict' in stored.keys():\n",
    "    model.load_state_dict(stored['state_dict'])\n",
    "else:\n",
    "    model.load_state_dict(stored)\n",
    "model.eval()\n",
    "\n",
    "# create loss function\n",
    "# criterion = torch.nn.CrossEntropyLoss()\n",
    "criterion = mean_smooth_crossentropy\n",
    "\n",
    "# get dataset \n",
    "dataset = Cifar(0.3, 128, 2)\n",
    "trainloader, testloader = dataset.train, dataset.test\n"
   ]
  },
  {
   "cell_type": "code",
   "execution_count": 119,
   "id": "1a5742df-a1b2-4acd-b615-f9bfc3b54b20",
   "metadata": {},
   "outputs": [],
   "source": [
    "# for illustrate, we only use one batch\n",
    "for inputs, targets in trainloader:\n",
    "    break\n",
    "\n",
    "# For multiple batches\n",
    "dataloader = trainloader\n",
    "\n",
    "# we use cuda to make the computation fast\n",
    "# model = model.cuda()\n",
    "# inputs, targets = inputs.cuda(), targets.cuda()"
   ]
  },
  {
   "cell_type": "code",
   "execution_count": 120,
   "id": "bdb5d6eb-dbc8-4945-81a6-86efd6345d2f",
   "metadata": {},
   "outputs": [],
   "source": [
    "# create the hessian computation module\n",
    "hessian_comp = hessian(model, criterion, data=(inputs, targets), cuda=False) # Single batch\n",
    "# hessian_comp = hessian(model, criterion, dataloader=dataloader, cuda=False) # Whole training set"
   ]
  },
  {
   "cell_type": "code",
   "execution_count": 125,
   "id": "b1c1426e-4da4-4aff-a8ef-2c405672fe81",
   "metadata": {},
   "outputs": [],
   "source": [
    "density_eigen, density_weight = hessian_comp.density(iter=100, n_v=1)"
   ]
  },
  {
   "cell_type": "code",
   "execution_count": 126,
   "id": "504e71ca-8924-41d0-a396-bc2df54a6c87",
   "metadata": {},
   "outputs": [
    {
     "data": {
      "text/plain": [
       "[[(229.96605+0j),\n",
       "  (193.21214+0j),\n",
       "  (186.26375+0j),\n",
       "  (162.7291+0j),\n",
       "  (135.69576+0j),\n",
       "  (118.33687+0j),\n",
       "  (101.612816+0j),\n",
       "  (82.73761+0j),\n",
       "  (57.73179+0j),\n",
       "  (34.82363+0j),\n",
       "  (33.903225+0j),\n",
       "  (26.515314+0j),\n",
       "  (24.743633+0j),\n",
       "  (22.087645+0j),\n",
       "  (19.203455+0j),\n",
       "  (18.300983+0j),\n",
       "  (17.002703+0j),\n",
       "  (16.334206+0j),\n",
       "  (16.188618+0j),\n",
       "  (15.047378+0j),\n",
       "  (14.6554+0j),\n",
       "  (13.519853+0j),\n",
       "  (12.6556835+0j),\n",
       "  (12.233987+0j),\n",
       "  (11.745465+0j),\n",
       "  (11.332093+0j),\n",
       "  (10.910723+0j),\n",
       "  (10.854833+0j),\n",
       "  (10.500712+0j),\n",
       "  (9.7851095+0j),\n",
       "  (-6.198369+0j),\n",
       "  (9.384801+0j),\n",
       "  (8.777609+0j),\n",
       "  (8.610484+0j),\n",
       "  (8.407791+0j),\n",
       "  (8.0701885+0j),\n",
       "  (8.249808+0j),\n",
       "  (-5.8806424+0j),\n",
       "  (7.7146363+0j),\n",
       "  (7.1189804+0j),\n",
       "  (7.436264+0j),\n",
       "  (7.3544536+0j),\n",
       "  (-5.685235+0j),\n",
       "  (-5.5582166+0j),\n",
       "  (-5.1588693+0j),\n",
       "  (-5.00667+0j),\n",
       "  (6.7694507+0j),\n",
       "  (6.606938+0j),\n",
       "  (6.4528723+0j),\n",
       "  (-4.8453946+0j),\n",
       "  (-4.69743+0j),\n",
       "  (6.1706343+0j),\n",
       "  (5.894369+0j),\n",
       "  (-4.642734+0j),\n",
       "  (5.237677+0j),\n",
       "  (4.9562664+0j),\n",
       "  (4.7473702+0j),\n",
       "  (-4.405791+0j),\n",
       "  (5.687246+0j),\n",
       "  (5.605853+0j),\n",
       "  (3.3259072+0j),\n",
       "  (3.59972+0j),\n",
       "  (3.894435+0j),\n",
       "  (4.141497+0j),\n",
       "  (4.3966246+0j),\n",
       "  (-4.257561+0j),\n",
       "  (-4.188134+0j),\n",
       "  (3.0464106+0j),\n",
       "  (-4.066009+0j),\n",
       "  (2.4548213+0j),\n",
       "  (2.1875103+0j),\n",
       "  (1.8948908+0j),\n",
       "  (-3.7926328+0j),\n",
       "  (-3.7155411+0j),\n",
       "  (1.6285856+0j),\n",
       "  (1.0582408+0j),\n",
       "  (0.79232496+0j),\n",
       "  (-3.0166972+0j),\n",
       "  (-3.2289574+0j),\n",
       "  (-3.5122807+0j),\n",
       "  (-2.7672913+0j),\n",
       "  (2.7452302+0j),\n",
       "  (0.50961405+0j),\n",
       "  (-1.7788081+0j),\n",
       "  (-1.9767746+0j),\n",
       "  (-2.218055+0j),\n",
       "  (-1.0420234+0j),\n",
       "  (-3.9329793+0j),\n",
       "  (-3.3912187+0j),\n",
       "  (-0.5213602+0j),\n",
       "  (-0.7918427+0j),\n",
       "  (-1.5357184+0j),\n",
       "  (0.23163493+0j),\n",
       "  (-2.601822+0j),\n",
       "  (-2.4069948+0j),\n",
       "  (-0.2595059+0j),\n",
       "  (-1.2963647+0j),\n",
       "  (0.01647199+0j),\n",
       "  (-0.032261934+0j),\n",
       "  (1.3467033+0j)]]"
      ]
     },
     "execution_count": 126,
     "metadata": {},
     "output_type": "execute_result"
    }
   ],
   "source": [
    "density_eigen"
   ]
  },
  {
   "cell_type": "code",
   "execution_count": 128,
   "id": "4281a310-b4de-40b9-bb52-366d3ddbfa0a",
   "metadata": {},
   "outputs": [
    {
     "name": "stderr",
     "output_type": "stream",
     "text": [
      "C:\\Users\\franc\\Desktop\\Francesco\\EPFL_Courses\\Optimization for ML\\sharpness-aware_minimization\\loss_landscape\\my_pyhessian\\density_plot.py:64: ComplexWarning: Casting complex values to real discards the imaginary part\n",
      "  normalization = np.sum(density) * (grids[1] - grids[0])\n"
     ]
    }
   ],
   "source": [
    "get_esd_plot(density_eigen, density_weight,'eig_cifar_sgd.png')"
   ]
  },
  {
   "cell_type": "code",
   "execution_count": null,
   "id": "a293956a-9059-49ed-87b2-b66d647818de",
   "metadata": {},
   "outputs": [],
   "source": [
    "# Now let's compute the top eigenvalue.\n",
    "top_eigenvalues, top_eigenvector = hessian_comp.eigenvalues(maxIter=10, top_n = 1)\n",
    "print(\"The top Hessian eigenvalue of this model is %.4f\"%top_eigenvalues[-1])"
   ]
  },
  {
   "cell_type": "code",
   "execution_count": null,
   "id": "103e2c64-7e71-4904-9816-ae102bc66da9",
   "metadata": {},
   "outputs": [],
   "source": []
  },
  {
   "cell_type": "code",
   "execution_count": null,
   "id": "2a69b12e-3e53-4eee-b7cd-d30079aa9621",
   "metadata": {},
   "outputs": [],
   "source": []
  }
 ],
 "metadata": {
  "kernelspec": {
   "display_name": "Python 3 (ipykernel)",
   "language": "python",
   "name": "python3"
  },
  "language_info": {
   "codemirror_mode": {
    "name": "ipython",
    "version": 3
   },
   "file_extension": ".py",
   "mimetype": "text/x-python",
   "name": "python",
   "nbconvert_exporter": "python",
   "pygments_lexer": "ipython3",
   "version": "3.10.9"
  }
 },
 "nbformat": 4,
 "nbformat_minor": 5
}
